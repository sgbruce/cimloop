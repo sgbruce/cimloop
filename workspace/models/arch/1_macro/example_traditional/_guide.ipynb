{
 "cells": [
  {
   "cell_type": "code",
   "execution_count": 20,
   "metadata": {},
   "outputs": [
    {
     "data": {
      "text/markdown": [
       "\n",
       "This is an example digital architecture based on Eyeriss by Yu-Hsin Chen, Tushar\n",
       "Krishna, Joel Emer, and Vivienne Sze.\n",
       "\n",
       "Some of the important variables for example_traditional:\n",
       "\n",
       "- *TECHNOLOGY*: 5 nm\n",
       "- *SUPPORTED_INPUT_BITS*: 8 bit(s)\n",
       "- *SUPPORTED_OUTPUT_BITS*: 16 bit(s)\n",
       "- *SUPPORTED_WEIGHT_BITS*: 8 bit(s)\n",
       "- *GLOBAL_CYCLE_SECONDS*: 1e-09 clock period\n",
       "\n",
       "Components are defined the following places:\n",
       "- workspace/models/arch/1_macro/example_traditional/example_components/components.csv\n",
       "- workspace/models/arch/1_macro/example_traditional/components.yaml\n",
       "- The top-level components locations\n",
       "  - workspace/models/components/components/*.yaml\n",
       "  - workspace/models/components/components/accelergy_plug_ins/*.py\n",
       "  \n",
       "Place new components in any of these places!\n",
       "\n"
      ],
      "text/plain": [
       "<IPython.core.display.Markdown object>"
      ]
     },
     "metadata": {},
     "output_type": "display_data"
    },
    {
     "ename": "KeyError",
     "evalue": "'C'",
     "output_type": "error",
     "traceback": [
      "\u001b[0;31m---------------------------------------------------------------------------\u001b[0m",
      "\u001b[0;31mKeyError\u001b[0m                                  Traceback (most recent call last)",
      "Cell \u001b[0;32mIn[20], line 22\u001b[0m\n\u001b[1;32m      2\u001b[0m \u001b[38;5;28;01mfrom\u001b[39;00m\u001b[38;5;250m \u001b[39m\u001b[38;5;21;01mscripts\u001b[39;00m\u001b[38;5;21;01m.\u001b[39;00m\u001b[38;5;21;01mnotebook_utils\u001b[39;00m\u001b[38;5;250m \u001b[39m\u001b[38;5;28;01mimport\u001b[39;00m \u001b[38;5;241m*\u001b[39m\n\u001b[1;32m      4\u001b[0m display_markdown(\n\u001b[1;32m      5\u001b[0m     \u001b[38;5;124mf\u001b[39m\u001b[38;5;124m\"\"\"\u001b[39m\n\u001b[1;32m      6\u001b[0m \u001b[38;5;124mThis is an example digital architecture based on Eyeriss by Yu-Hsin Chen, Tushar\u001b[39m\n\u001b[0;32m   (...)\u001b[0m\n\u001b[1;32m     20\u001b[0m \u001b[38;5;124m\"\"\"\u001b[39m\n\u001b[1;32m     21\u001b[0m )\n\u001b[0;32m---> 22\u001b[0m display_diagram(\u001b[43mget_diagram\u001b[49m\u001b[43m(\u001b[49m\u001b[38;5;124;43m\"\u001b[39;49m\u001b[38;5;124;43mexample_traditional\u001b[39;49m\u001b[38;5;124;43m\"\u001b[39;49m\u001b[43m,\u001b[49m\u001b[43m \u001b[49m\u001b[43mignore\u001b[49m\u001b[38;5;241;43m=\u001b[39;49m\u001b[43mDIAGRAM_DEFAULT_IGNORE\u001b[49m\u001b[43m)\u001b[49m)\n",
      "File \u001b[0;32m~/scripts/utils.py:168\u001b[0m, in \u001b[0;36mget_diagram\u001b[0;34m(macro, container_names, ignore, variables, **kwargs)\u001b[0m\n\u001b[1;32m    161\u001b[0m spec \u001b[38;5;241m=\u001b[39m get_spec(\n\u001b[1;32m    162\u001b[0m     macro\u001b[38;5;241m=\u001b[39mmacro,\n\u001b[1;32m    163\u001b[0m     system\u001b[38;5;241m=\u001b[39m\u001b[38;5;124m\"\u001b[39m\u001b[38;5;124mws_dummy_buffer_one_macro\u001b[39m\u001b[38;5;124m\"\u001b[39m,\n\u001b[1;32m    164\u001b[0m     max_utilization\u001b[38;5;241m=\u001b[39m\u001b[38;5;28;01mTrue\u001b[39;00m,\n\u001b[1;32m    165\u001b[0m     \u001b[38;5;241m*\u001b[39m\u001b[38;5;241m*\u001b[39mkwargs,\n\u001b[1;32m    166\u001b[0m )\n\u001b[1;32m    167\u001b[0m spec\u001b[38;5;241m.\u001b[39mvariables\u001b[38;5;241m.\u001b[39mupdate(variables \u001b[38;5;129;01mor\u001b[39;00m {})\n\u001b[0;32m--> 168\u001b[0m \u001b[38;5;28;01mreturn\u001b[39;00m \u001b[43mspec\u001b[49m\u001b[38;5;241;43m.\u001b[39;49m\u001b[43mto_diagram\u001b[49m\u001b[43m(\u001b[49m\u001b[43mcontainer_names\u001b[49m\u001b[43m,\u001b[49m\u001b[43m \u001b[49m\u001b[43mignore\u001b[49m\u001b[43m)\u001b[49m\n",
      "File \u001b[0;32m/usr/local/lib/python3.10/dist-packages/pytimeloop/timeloopfe/v4/specification.py:110\u001b[0m, in \u001b[0;36mSpecification.to_diagram\u001b[0;34m(self, container_names, ignore_containers)\u001b[0m\n\u001b[1;32m    103\u001b[0m \u001b[38;5;28;01mdef\u001b[39;00m\u001b[38;5;250m \u001b[39m\u001b[38;5;21mto_diagram\u001b[39m(\n\u001b[1;32m    104\u001b[0m     \u001b[38;5;28mself\u001b[39m,\n\u001b[1;32m    105\u001b[0m     container_names: Union[\u001b[38;5;28mstr\u001b[39m, List[\u001b[38;5;28mstr\u001b[39m]] \u001b[38;5;241m=\u001b[39m (),\n\u001b[1;32m    106\u001b[0m     ignore_containers: Union[\u001b[38;5;28mstr\u001b[39m, List[\u001b[38;5;28mstr\u001b[39m]] \u001b[38;5;241m=\u001b[39m (),\n\u001b[1;32m    107\u001b[0m ) \u001b[38;5;241m-\u001b[39m\u001b[38;5;241m>\u001b[39m \u001b[38;5;124m\"\u001b[39m\u001b[38;5;124mpydot.Graph\u001b[39m\u001b[38;5;124m\"\u001b[39m:\n\u001b[1;32m    108\u001b[0m     \u001b[38;5;28;01mfrom\u001b[39;00m\u001b[38;5;250m \u001b[39m\u001b[38;5;21;01m.\u001b[39;00m\u001b[38;5;21;01mprocessors\u001b[39;00m\u001b[38;5;21;01m.\u001b[39;00m\u001b[38;5;21;01mto_diagram_processor\u001b[39;00m\u001b[38;5;250m \u001b[39m\u001b[38;5;28;01mimport\u001b[39;00m ToDiagramProcessor\n\u001b[0;32m--> 110\u001b[0m     s \u001b[38;5;241m=\u001b[39m \u001b[38;5;28;43mself\u001b[39;49m\u001b[38;5;241;43m.\u001b[39;49m\u001b[43m_process\u001b[49m\u001b[43m(\u001b[49m\u001b[43m)\u001b[49m\n\u001b[1;32m    111\u001b[0m     proc \u001b[38;5;241m=\u001b[39m ToDiagramProcessor(container_names, ignore_containers, spec\u001b[38;5;241m=\u001b[39ms)\n\u001b[1;32m    112\u001b[0m     \u001b[38;5;28;01mreturn\u001b[39;00m proc\u001b[38;5;241m.\u001b[39mprocess(s)\n",
      "File \u001b[0;32m/usr/local/lib/python3.10/dist-packages/pytimeloop/timeloopfe/common/base_specification.py:217\u001b[0m, in \u001b[0;36mBaseSpecification._process\u001b[0;34m(self)\u001b[0m\n\u001b[1;32m    215\u001b[0m     spec\u001b[38;5;241m.\u001b[39mparse_expressions()\n\u001b[1;32m    216\u001b[0m \u001b[38;5;28;01mif\u001b[39;00m spec\u001b[38;5;241m.\u001b[39mneeds_processing():\n\u001b[0;32m--> 217\u001b[0m     \u001b[43mspec\u001b[49m\u001b[38;5;241;43m.\u001b[39;49m\u001b[43mprocess\u001b[49m\u001b[43m(\u001b[49m\u001b[43mcheck_types\u001b[49m\u001b[38;5;241;43m=\u001b[39;49m\u001b[38;5;28;43;01mFalse\u001b[39;49;00m\u001b[43m,\u001b[49m\u001b[43m \u001b[49m\u001b[43mreprocess\u001b[49m\u001b[38;5;241;43m=\u001b[39;49m\u001b[38;5;28;43;01mFalse\u001b[39;49;00m\u001b[43m)\u001b[49m\n\u001b[1;32m    218\u001b[0m spec\u001b[38;5;241m.\u001b[39mprocess(spec\u001b[38;5;241m.\u001b[39m_required_processors)\n\u001b[1;32m    219\u001b[0m spec\u001b[38;5;241m.\u001b[39mcheck_unrecognized()\n",
      "File \u001b[0;32m/usr/local/lib/python3.10/dist-packages/pytimeloop/timeloopfe/common/base_specification.py:151\u001b[0m, in \u001b[0;36mBaseSpecification.process\u001b[0;34m(self, with_processors, check_types, check_types_ignore_empty, reprocess)\u001b[0m\n\u001b[1;32m    149\u001b[0m \u001b[38;5;28mself\u001b[39m\u001b[38;5;241m.\u001b[39mlogger\u001b[38;5;241m.\u001b[39minfo(\u001b[38;5;124m\"\u001b[39m\u001b[38;5;124mRunning processor \u001b[39m\u001b[38;5;132;01m%s\u001b[39;00m\u001b[38;5;124m\"\u001b[39m, p\u001b[38;5;241m.\u001b[39m\u001b[38;5;18m__class__\u001b[39m\u001b[38;5;241m.\u001b[39m\u001b[38;5;18m__name__\u001b[39m)\n\u001b[1;32m    150\u001b[0m start_time \u001b[38;5;241m=\u001b[39m time\u001b[38;5;241m.\u001b[39mtime()\n\u001b[0;32m--> 151\u001b[0m \u001b[43mp\u001b[49m\u001b[38;5;241;43m.\u001b[39;49m\u001b[43mprocess\u001b[49m\u001b[43m(\u001b[49m\u001b[38;5;28;43mself\u001b[39;49m\u001b[43m)\u001b[49m\n\u001b[1;32m    152\u001b[0m \u001b[38;5;28mself\u001b[39m\u001b[38;5;241m.\u001b[39mlogger\u001b[38;5;241m.\u001b[39minfo(\n\u001b[1;32m    153\u001b[0m     \u001b[38;5;124m\"\u001b[39m\u001b[38;5;124mProcessor \u001b[39m\u001b[38;5;132;01m%s\u001b[39;00m\u001b[38;5;124m done after \u001b[39m\u001b[38;5;132;01m%.2f\u001b[39;00m\u001b[38;5;124m seconds\u001b[39m\u001b[38;5;124m\"\u001b[39m,\n\u001b[1;32m    154\u001b[0m     p\u001b[38;5;241m.\u001b[39m\u001b[38;5;18m__class__\u001b[39m\u001b[38;5;241m.\u001b[39m\u001b[38;5;18m__name__\u001b[39m,\n\u001b[1;32m    155\u001b[0m     time\u001b[38;5;241m.\u001b[39mtime() \u001b[38;5;241m-\u001b[39m start_time,\n\u001b[1;32m    156\u001b[0m )\n\u001b[1;32m    157\u001b[0m \u001b[38;5;28mself\u001b[39m\u001b[38;5;241m.\u001b[39m_processors_run\u001b[38;5;241m.\u001b[39mappend(p_cls)\n",
      "File \u001b[0;32m~/scripts/processors.py:194\u001b[0m, in \u001b[0;36mArrayProcessor.process\u001b[0;34m(self, spec)\u001b[0m\n\u001b[1;32m    192\u001b[0m instance \u001b[38;5;241m=\u001b[39m spec\u001b[38;5;241m.\u001b[39mproblem\u001b[38;5;241m.\u001b[39minstance\n\u001b[1;32m    193\u001b[0m instance\u001b[38;5;241m.\u001b[39mupdate(max_util_shape)\n\u001b[0;32m--> 194\u001b[0m \u001b[38;5;28;01mfor\u001b[39;00m k, e \u001b[38;5;129;01min\u001b[39;00m \u001b[38;5;28;43mself\u001b[39;49m\u001b[38;5;241;43m.\u001b[39;49m\u001b[43mexpand_utilization\u001b[49m\u001b[43m(\u001b[49m\u001b[43mspec\u001b[49m\u001b[43m)\u001b[49m\u001b[38;5;241m.\u001b[39mitems():\n\u001b[1;32m    195\u001b[0m     instance[k] \u001b[38;5;241m=\u001b[39m instance\u001b[38;5;241m.\u001b[39mget(k, \u001b[38;5;241m1\u001b[39m) \u001b[38;5;241m*\u001b[39m e\n\u001b[1;32m    197\u001b[0m \u001b[38;5;28;01mif\u001b[39;00m spec\u001b[38;5;241m.\u001b[39mvariables[\u001b[38;5;124m\"\u001b[39m\u001b[38;5;124mCIM_ARCHITECTURE\u001b[39m\u001b[38;5;124m\"\u001b[39m]:\n",
      "File \u001b[0;32m~/scripts/processors.py:93\u001b[0m, in \u001b[0;36mArrayProcessor.expand_utilization\u001b[0;34m(self, spec)\u001b[0m\n\u001b[1;32m     91\u001b[0m \u001b[38;5;28;01mif\u001b[39;00m remaining_multipliers:\n\u001b[1;32m     92\u001b[0m     \u001b[38;5;28;01mfor\u001b[39;00m f \u001b[38;5;129;01min\u001b[39;00m num2list_of_prime_factors(f):\n\u001b[0;32m---> 93\u001b[0m         target \u001b[38;5;241m=\u001b[39m \u001b[38;5;28;43mmin\u001b[39;49m\u001b[43m(\u001b[49m\u001b[43mremaining_multipliers\u001b[49m\u001b[43m,\u001b[49m\u001b[43m \u001b[49m\u001b[43mkey\u001b[49m\u001b[38;5;241;43m=\u001b[39;49m\u001b[38;5;28;43;01mlambda\u001b[39;49;00m\u001b[43m \u001b[49m\u001b[43mx\u001b[49m\u001b[43m:\u001b[49m\u001b[43m \u001b[49m\u001b[43minstance\u001b[49m\u001b[43m[\u001b[49m\u001b[43mx\u001b[49m\u001b[43m]\u001b[49m\u001b[43m)\u001b[49m\n\u001b[1;32m     94\u001b[0m         prev \u001b[38;5;241m=\u001b[39m instance[target]\n\u001b[1;32m     95\u001b[0m         mult_warning[target] \u001b[38;5;241m=\u001b[39m f \u001b[38;5;241m*\u001b[39m mult_warning\u001b[38;5;241m.\u001b[39mget(target, \u001b[38;5;241m1\u001b[39m)\n",
      "File \u001b[0;32m~/scripts/processors.py:93\u001b[0m, in \u001b[0;36mArrayProcessor.expand_utilization.<locals>.<lambda>\u001b[0;34m(x)\u001b[0m\n\u001b[1;32m     91\u001b[0m \u001b[38;5;28;01mif\u001b[39;00m remaining_multipliers:\n\u001b[1;32m     92\u001b[0m     \u001b[38;5;28;01mfor\u001b[39;00m f \u001b[38;5;129;01min\u001b[39;00m num2list_of_prime_factors(f):\n\u001b[0;32m---> 93\u001b[0m         target \u001b[38;5;241m=\u001b[39m \u001b[38;5;28mmin\u001b[39m(remaining_multipliers, key\u001b[38;5;241m=\u001b[39m\u001b[38;5;28;01mlambda\u001b[39;00m x: \u001b[43minstance\u001b[49m\u001b[43m[\u001b[49m\u001b[43mx\u001b[49m\u001b[43m]\u001b[49m)\n\u001b[1;32m     94\u001b[0m         prev \u001b[38;5;241m=\u001b[39m instance[target]\n\u001b[1;32m     95\u001b[0m         mult_warning[target] \u001b[38;5;241m=\u001b[39m f \u001b[38;5;241m*\u001b[39m mult_warning\u001b[38;5;241m.\u001b[39mget(target, \u001b[38;5;241m1\u001b[39m)\n",
      "File \u001b[0;32m/usr/local/lib/python3.10/dist-packages/pytimeloop/timeloopfe/common/nodes.py:1385\u001b[0m, in \u001b[0;36mDictNode.__getitem__\u001b[0;34m(self, _DictNode__key)\u001b[0m\n\u001b[1;32m   1383\u001b[0m \u001b[38;5;28;01mdef\u001b[39;00m\u001b[38;5;250m \u001b[39m\u001b[38;5;21m__getitem__\u001b[39m(\u001b[38;5;28mself\u001b[39m, __key: Any) \u001b[38;5;241m-\u001b[39m\u001b[38;5;241m>\u001b[39m Any:\n\u001b[1;32m   1384\u001b[0m     \u001b[38;5;28mself\u001b[39m\u001b[38;5;241m.\u001b[39m_check_alias(__key)\n\u001b[0;32m-> 1385\u001b[0m     \u001b[38;5;28;01mreturn\u001b[39;00m \u001b[38;5;28;43msuper\u001b[39;49m\u001b[43m(\u001b[49m\u001b[43m)\u001b[49m\u001b[38;5;241;43m.\u001b[39;49m\u001b[38;5;21;43m__getitem__\u001b[39;49m\u001b[43m(\u001b[49m\u001b[43m__key\u001b[49m\u001b[43m)\u001b[49m\n",
      "File \u001b[0;32m/usr/local/lib/python3.10/dist-packages/pytimeloop/timeloopfe/common/nodes.py:1049\u001b[0m, in \u001b[0;36mNode.__getitem__\u001b[0;34m(self, key)\u001b[0m\n\u001b[1;32m   1047\u001b[0m \u001b[38;5;250m\u001b[39m\u001b[38;5;124;03m\"\"\"Get the value at the given key or index.\"\"\"\u001b[39;00m\n\u001b[1;32m   1048\u001b[0m \u001b[38;5;66;03m# pylint: disable=no-member\u001b[39;00m\n\u001b[0;32m-> 1049\u001b[0m \u001b[38;5;28;01mreturn\u001b[39;00m \u001b[38;5;28;43msuper\u001b[39;49m\u001b[43m(\u001b[49m\u001b[43m)\u001b[49m\u001b[38;5;241;43m.\u001b[39;49m\u001b[38;5;21;43m__getitem__\u001b[39;49m\u001b[43m(\u001b[49m\u001b[43mkey\u001b[49m\u001b[43m)\u001b[49m\n",
      "\u001b[0;31mKeyError\u001b[0m: 'C'"
     ]
    }
   ],
   "source": [
    "from _tests import scripts\n",
    "from scripts.notebook_utils import *\n",
    "\n",
    "display_markdown(\n",
    "    f\"\"\"\n",
    "This is an example digital architecture based on Eyeriss by Yu-Hsin Chen, Tushar\n",
    "Krishna, Joel Emer, and Vivienne Sze.\n",
    "\n",
    "{get_important_variables_markdown('example_traditional')}\n",
    "\n",
    "Components are defined the following places:\n",
    "- workspace/models/arch/1_macro/example_traditional/example_components/components.csv\n",
    "- workspace/models/arch/1_macro/example_traditional/components.yaml\n",
    "- The top-level components locations\n",
    "  - workspace/models/components/components/*.yaml\n",
    "  - workspace/models/components/components/accelergy_plug_ins/*.py\n",
    "  \n",
    "Place new components in any of these places!\n",
    "\n",
    "\"\"\"\n",
    ")\n",
    "display_diagram(get_diagram(\"example_traditional\", ignore=DIAGRAM_DEFAULT_IGNORE))"
   ]
  },
  {
   "cell_type": "code",
   "execution_count": 48,
   "metadata": {},
   "outputs": [
    {
     "data": {
      "text/markdown": [
       "\n",
       "   ### Area and energy breakdown\n",
       "   This example architecture doesn't have a suite of tests, but you may\n",
       "   look at the other example architectures for inspiration.        \n",
       "   "
      ],
      "text/plain": [
       "<IPython.core.display.Markdown object>"
      ]
     },
     "metadata": {},
     "output_type": "display_data"
    },
    {
     "name": "stderr",
     "output_type": "stream",
     "text": [
      "WARNING:ArrayProcessor:To fill up vsqutie, multiplied C,M by (4,4): (1,1) -> (4,4)\n",
      "WARNING:ArrayProcessor:To fill up vec_mac_lane, multiplied C,M by (4,4): (4,4) -> (16,16)\n"
     ]
    },
    {
     "ename": "AssertionError",
     "evalue": "The last node in the architecture tree must be a compute node. With 'class: compute'. Got node Specification[architecture].Architecture[nodes].ArchNodes[1].Hierarchical[nodes].ArchNodes[10].Storage(vec_mac[1..256]) of type <class 'pytimeloop.timeloopfe.v4.arch.Storage'>",
     "output_type": "error",
     "traceback": [
      "\u001b[0;31m---------------------------------------------------------------------------\u001b[0m",
      "\u001b[0;31mAssertionError\u001b[0m                            Traceback (most recent call last)",
      "Cell \u001b[0;32mIn[48], line 1\u001b[0m\n\u001b[0;32m----> 1\u001b[0m result \u001b[38;5;241m=\u001b[39m \u001b[43mrun_test\u001b[49m\u001b[43m(\u001b[49m\u001b[38;5;124;43m\"\u001b[39;49m\u001b[38;5;124;43mexample_traditional\u001b[39;49m\u001b[38;5;124;43m\"\u001b[39;49m\u001b[43m,\u001b[49m\u001b[43m \u001b[49m\u001b[38;5;124;43m\"\u001b[39;49m\u001b[38;5;124;43mtest_area_energy_breakdown\u001b[39;49m\u001b[38;5;124;43m\"\u001b[39;49m\u001b[43m)\u001b[49m\n\u001b[1;32m      2\u001b[0m fig, axs \u001b[38;5;241m=\u001b[39m plt\u001b[38;5;241m.\u001b[39msubplots(\u001b[38;5;241m1\u001b[39m, \u001b[38;5;241m2\u001b[39m, figsize\u001b[38;5;241m=\u001b[39m(\u001b[38;5;241m20\u001b[39m, \u001b[38;5;241m5\u001b[39m))\n\u001b[1;32m      3\u001b[0m bar_stacked(\n\u001b[1;32m      4\u001b[0m     {\u001b[38;5;124mf\u001b[39m\u001b[38;5;124m\"\u001b[39m\u001b[38;5;124mSpeculation \u001b[39m\u001b[38;5;132;01m{\u001b[39;00mr\u001b[38;5;241m.\u001b[39mvariables[\u001b[38;5;124m'\u001b[39m\u001b[38;5;124mQUANTIZE\u001b[39m\u001b[38;5;124m'\u001b[39m]\u001b[38;5;132;01m}\u001b[39;00m\u001b[38;5;124m\"\u001b[39m: r\u001b[38;5;241m.\u001b[39mper_compute(\u001b[38;5;124m'\u001b[39m\u001b[38;5;124mper_component_energy\u001b[39m\u001b[38;5;124m'\u001b[39m)\u001b[38;5;241m*\u001b[39m\u001b[38;5;241m1e15\u001b[39m \u001b[38;5;28;01mfor\u001b[39;00m r \u001b[38;5;129;01min\u001b[39;00m result},\n\u001b[1;32m      5\u001b[0m     ylabel\u001b[38;5;241m=\u001b[39m\u001b[38;5;124m\"\u001b[39m\u001b[38;5;124mEnergy (fJ/MAC)\u001b[39m\u001b[38;5;124m\"\u001b[39m,\n\u001b[1;32m      6\u001b[0m     title\u001b[38;5;241m=\u001b[39m\u001b[38;5;124mf\u001b[39m\u001b[38;5;124m\"\u001b[39m\u001b[38;5;124mEnergy Breakdown\u001b[39m\u001b[38;5;124m\"\u001b[39m,\n\u001b[1;32m      7\u001b[0m     ax\u001b[38;5;241m=\u001b[39maxs[\u001b[38;5;241m0\u001b[39m]\n\u001b[1;32m      8\u001b[0m )\n",
      "File \u001b[0;32m~/scripts/notebook_utils.py:143\u001b[0m, in \u001b[0;36mrun_test\u001b[0;34m(macro_name, test_name, show_doc, *args, **kwargs)\u001b[0m\n\u001b[1;32m    141\u001b[0m     doc \u001b[38;5;241m=\u001b[39m \u001b[38;5;124m\"\u001b[39m\u001b[38;5;130;01m\\n\u001b[39;00m\u001b[38;5;124m\"\u001b[39m\u001b[38;5;241m.\u001b[39mjoin([line[\u001b[38;5;241m1\u001b[39m:] \u001b[38;5;28;01mfor\u001b[39;00m line \u001b[38;5;129;01min\u001b[39;00m doc\u001b[38;5;241m.\u001b[39msplit(\u001b[38;5;124m\"\u001b[39m\u001b[38;5;130;01m\\n\u001b[39;00m\u001b[38;5;124m\"\u001b[39m)])\n\u001b[1;32m    142\u001b[0m     display_markdown(doc)\n\u001b[0;32m--> 143\u001b[0m t \u001b[38;5;241m=\u001b[39m \u001b[43mtest_func\u001b[49m\u001b[43m(\u001b[49m\u001b[38;5;241;43m*\u001b[39;49m\u001b[43margs\u001b[49m\u001b[43m,\u001b[49m\u001b[43m \u001b[49m\u001b[38;5;241;43m*\u001b[39;49m\u001b[38;5;241;43m*\u001b[39;49m\u001b[43mkwargs\u001b[49m\u001b[43m)\u001b[49m\n\u001b[1;32m    144\u001b[0m clean_old_output_files()\n\u001b[1;32m    145\u001b[0m \u001b[38;5;28;01mreturn\u001b[39;00m t\n",
      "File \u001b[0;32m~/models/arch/1_macro/example_traditional/_tests.py:18\u001b[0m, in \u001b[0;36mtest_area_energy_breakdown\u001b[0;34m()\u001b[0m\n\u001b[1;32m     12\u001b[0m \u001b[38;5;28;01mdef\u001b[39;00m\u001b[38;5;250m \u001b[39m\u001b[38;5;21mtest_area_energy_breakdown\u001b[39m():\n\u001b[1;32m     13\u001b[0m \u001b[38;5;250m    \u001b[39m\u001b[38;5;124;03m\"\"\"\u001b[39;00m\n\u001b[1;32m     14\u001b[0m \u001b[38;5;124;03m    ### Area and energy breakdown\u001b[39;00m\n\u001b[1;32m     15\u001b[0m \u001b[38;5;124;03m    This example architecture doesn't have a suite of tests, but you may\u001b[39;00m\n\u001b[1;32m     16\u001b[0m \u001b[38;5;124;03m    look at the other example architectures for inspiration.        \u001b[39;00m\n\u001b[1;32m     17\u001b[0m \u001b[38;5;124;03m    \"\"\"\u001b[39;00m\n\u001b[0;32m---> 18\u001b[0m     results \u001b[38;5;241m=\u001b[39m utl\u001b[38;5;241m.\u001b[39msingle_test(\u001b[43mutl\u001b[49m\u001b[38;5;241;43m.\u001b[39;49m\u001b[43mquick_run\u001b[49m\u001b[43m(\u001b[49m\u001b[43mmacro\u001b[49m\u001b[38;5;241;43m=\u001b[39;49m\u001b[43mMACRO_NAME\u001b[49m\u001b[43m)\u001b[49m)\n\u001b[1;32m     20\u001b[0m     results \u001b[38;5;241m=\u001b[39m utl\u001b[38;5;241m.\u001b[39mparallel_test(\n\u001b[1;32m     21\u001b[0m         utl\u001b[38;5;241m.\u001b[39mdelayed(utl\u001b[38;5;241m.\u001b[39mquick_run)(\n\u001b[1;32m     22\u001b[0m             macro\u001b[38;5;241m=\u001b[39mMACRO_NAME,\n\u001b[0;32m   (...)\u001b[0m\n\u001b[1;32m     27\u001b[0m         \u001b[38;5;28;01mfor\u001b[39;00m q \u001b[38;5;129;01min\u001b[39;00m [\u001b[38;5;28;01mFalse\u001b[39;00m, \u001b[38;5;28;01mTrue\u001b[39;00m]\n\u001b[1;32m     28\u001b[0m     )\n\u001b[1;32m     29\u001b[0m     results\u001b[38;5;241m.\u001b[39mclear_zero_areas()\n",
      "File \u001b[0;32m~/scripts/utils.py:151\u001b[0m, in \u001b[0;36mquick_run\u001b[0;34m(macro, variables, accelergy_verbose, **kwargs)\u001b[0m\n\u001b[1;32m    148\u001b[0m     \u001b[38;5;28;01mif\u001b[39;00m k \u001b[38;5;129;01mnot\u001b[39;00m \u001b[38;5;129;01min\u001b[39;00m variables:\n\u001b[1;32m    149\u001b[0m         spec\u001b[38;5;241m.\u001b[39mvariables[k] \u001b[38;5;241m=\u001b[39m spec\u001b[38;5;241m.\u001b[39mvariables\u001b[38;5;241m.\u001b[39mpop(k)\n\u001b[0;32m--> 151\u001b[0m \u001b[38;5;28;01mreturn\u001b[39;00m \u001b[43mrun_mapper\u001b[49m\u001b[43m(\u001b[49m\u001b[43mspec\u001b[49m\u001b[43m,\u001b[49m\u001b[43m \u001b[49m\u001b[43maccelergy_verbose\u001b[49m\u001b[38;5;241;43m=\u001b[39;49m\u001b[43maccelergy_verbose\u001b[49m\u001b[43m)\u001b[49m\n",
      "File \u001b[0;32m~/scripts/utils.py:118\u001b[0m, in \u001b[0;36mrun_mapper\u001b[0;34m(spec, accelergy_verbose)\u001b[0m\n\u001b[1;32m    115\u001b[0m output_dir \u001b[38;5;241m=\u001b[39m get_run_dir()\n\u001b[1;32m    117\u001b[0m run_prefix \u001b[38;5;241m=\u001b[39m \u001b[38;5;124mf\u001b[39m\u001b[38;5;124m\"\u001b[39m\u001b[38;5;132;01m{\u001b[39;00moutput_dir\u001b[38;5;132;01m}\u001b[39;00m\u001b[38;5;124m/timeloop-mapper\u001b[39m\u001b[38;5;124m\"\u001b[39m\n\u001b[0;32m--> 118\u001b[0m mapper_result \u001b[38;5;241m=\u001b[39m \u001b[43mtl\u001b[49m\u001b[38;5;241;43m.\u001b[39;49m\u001b[43mcall_mapper\u001b[49m\u001b[43m(\u001b[49m\n\u001b[1;32m    119\u001b[0m \u001b[43m    \u001b[49m\u001b[43mspecification\u001b[49m\u001b[38;5;241;43m=\u001b[39;49m\u001b[43mspec\u001b[49m\u001b[43m,\u001b[49m\n\u001b[1;32m    120\u001b[0m \u001b[43m    \u001b[49m\u001b[43moutput_dir\u001b[49m\u001b[38;5;241;43m=\u001b[39;49m\u001b[43moutput_dir\u001b[49m\u001b[43m,\u001b[49m\n\u001b[1;32m    121\u001b[0m \u001b[43m    \u001b[49m\u001b[43mlog_to\u001b[49m\u001b[38;5;241;43m=\u001b[39;49m\u001b[43mos\u001b[49m\u001b[38;5;241;43m.\u001b[39;49m\u001b[43mpath\u001b[49m\u001b[38;5;241;43m.\u001b[39;49m\u001b[43mjoin\u001b[49m\u001b[43m(\u001b[49m\u001b[43moutput_dir\u001b[49m\u001b[43m,\u001b[49m\u001b[43m \u001b[49m\u001b[38;5;124;43mf\u001b[39;49m\u001b[38;5;124;43m\"\u001b[39;49m\u001b[38;5;132;43;01m{\u001b[39;49;00m\u001b[43mrun_prefix\u001b[49m\u001b[38;5;132;43;01m}\u001b[39;49;00m\u001b[38;5;124;43m.log\u001b[39;49m\u001b[38;5;124;43m\"\u001b[39;49m\u001b[43m)\u001b[49m\u001b[43m,\u001b[49m\n\u001b[1;32m    122\u001b[0m \u001b[43m\u001b[49m\u001b[43m)\u001b[49m\n\u001b[1;32m    123\u001b[0m \u001b[38;5;28;01mif\u001b[39;00m accelergy_verbose:\n\u001b[1;32m    124\u001b[0m     tl\u001b[38;5;241m.\u001b[39mcall_accelergy_verbose(\n\u001b[1;32m    125\u001b[0m         specification\u001b[38;5;241m=\u001b[39mspec,\n\u001b[1;32m    126\u001b[0m         output_dir\u001b[38;5;241m=\u001b[39moutput_dir,\n\u001b[1;32m    127\u001b[0m         log_to\u001b[38;5;241m=\u001b[39mos\u001b[38;5;241m.\u001b[39mpath\u001b[38;5;241m.\u001b[39mjoin(output_dir, \u001b[38;5;124m\"\u001b[39m\u001b[38;5;124maccelergy.log\u001b[39m\u001b[38;5;124m\"\u001b[39m),\n\u001b[1;32m    128\u001b[0m     )\n",
      "File \u001b[0;32m/usr/local/lib/python3.10/dist-packages/pytimeloop/timeloopfe/common/backend_calls.py:218\u001b[0m, in \u001b[0;36mcall_mapper\u001b[0;34m(specification, output_dir, environment, extra_input_files, dump_intermediate_to, log_to, extra_args, return_proc)\u001b[0m\n\u001b[1;32m    193\u001b[0m \u001b[38;5;28;01mdef\u001b[39;00m\u001b[38;5;250m \u001b[39m\u001b[38;5;21mcall_mapper\u001b[39m(\n\u001b[1;32m    194\u001b[0m     specification: BaseSpecification,\n\u001b[1;32m    195\u001b[0m     output_dir: \u001b[38;5;28mstr\u001b[39m,\n\u001b[0;32m   (...)\u001b[0m\n\u001b[1;32m    201\u001b[0m     return_proc: \u001b[38;5;28mbool\u001b[39m \u001b[38;5;241m=\u001b[39m \u001b[38;5;28;01mFalse\u001b[39;00m,\n\u001b[1;32m    202\u001b[0m ) \u001b[38;5;241m-\u001b[39m\u001b[38;5;241m>\u001b[39m Union[\u001b[38;5;28mint\u001b[39m, subprocess\u001b[38;5;241m.\u001b[39mPopen]:\n\u001b[1;32m    203\u001b[0m \u001b[38;5;250m    \u001b[39m\u001b[38;5;124;03m\"\"\"Call Timeloop Mapper from Python\u001b[39;00m\n\u001b[1;32m    204\u001b[0m \n\u001b[1;32m    205\u001b[0m \u001b[38;5;124;03m    Args:\u001b[39;00m\n\u001b[0;32m   (...)\u001b[0m\n\u001b[1;32m    216\u001b[0m \u001b[38;5;124;03m        Union[int, subprocess.Popen]: The return code of the call, or the subprocess.Popen object if return_proc is True.\u001b[39;00m\n\u001b[1;32m    217\u001b[0m \u001b[38;5;124;03m    \"\"\"\u001b[39;00m\n\u001b[0;32m--> 218\u001b[0m     input_paths, output_dir \u001b[38;5;241m=\u001b[39m \u001b[43m_pre_call\u001b[49m\u001b[43m(\u001b[49m\n\u001b[1;32m    219\u001b[0m \u001b[43m        \u001b[49m\u001b[43mspecification\u001b[49m\u001b[43m,\u001b[49m\u001b[43m \u001b[49m\u001b[43moutput_dir\u001b[49m\u001b[43m,\u001b[49m\u001b[43m \u001b[49m\u001b[43mextra_input_files\u001b[49m\u001b[43m,\u001b[49m\u001b[43m \u001b[49m\u001b[43mfor_model\u001b[49m\u001b[38;5;241;43m=\u001b[39;49m\u001b[38;5;28;43;01mFalse\u001b[39;49;00m\n\u001b[1;32m    220\u001b[0m \u001b[43m    \u001b[49m\u001b[43m)\u001b[49m\n\u001b[1;32m    222\u001b[0m     \u001b[38;5;28;01mreturn\u001b[39;00m _parse_output(\n\u001b[1;32m    223\u001b[0m         specification\u001b[38;5;241m=\u001b[39mspecification,\n\u001b[1;32m    224\u001b[0m         output_dir\u001b[38;5;241m=\u001b[39moutput_dir,\n\u001b[0;32m   (...)\u001b[0m\n\u001b[1;32m    235\u001b[0m         for_model\u001b[38;5;241m=\u001b[39m\u001b[38;5;28;01mFalse\u001b[39;00m,\n\u001b[1;32m    236\u001b[0m     )\n",
      "File \u001b[0;32m/usr/local/lib/python3.10/dist-packages/pytimeloop/timeloopfe/common/backend_calls.py:81\u001b[0m, in \u001b[0;36m_pre_call\u001b[0;34m(specification, output_dir, extra_input_files, for_model)\u001b[0m\n\u001b[1;32m     73\u001b[0m \u001b[38;5;250m\u001b[39m\u001b[38;5;124;03m\"\"\"Prepare to call Timeloop or Accelergy from Python\u001b[39;00m\n\u001b[1;32m     74\u001b[0m \u001b[38;5;124;03m!@param specification The specification with which to call Timeloop.\u001b[39;00m\n\u001b[1;32m     75\u001b[0m \u001b[38;5;124;03m!@param output_dir The directory to run Timeloop in.\u001b[39;00m\n\u001b[1;32m     76\u001b[0m \u001b[38;5;124;03m!@param extra_input_files A list of extra input files to pass to Timeloop.\u001b[39;00m\n\u001b[1;32m     77\u001b[0m \u001b[38;5;124;03m!@param for_model Whether the result is for Timeloop model or mapper\u001b[39;00m\n\u001b[1;32m     78\u001b[0m \u001b[38;5;124;03m\"\"\"\u001b[39;00m\n\u001b[1;32m     79\u001b[0m delayed_import()\n\u001b[0;32m---> 81\u001b[0m input_content \u001b[38;5;241m=\u001b[39m \u001b[43m_specification_to_yaml_string\u001b[49m\u001b[43m(\u001b[49m\u001b[43mspecification\u001b[49m\u001b[43m,\u001b[49m\u001b[43m \u001b[49m\u001b[43mfor_model\u001b[49m\u001b[43m)\u001b[49m\n\u001b[1;32m     83\u001b[0m os\u001b[38;5;241m.\u001b[39mmakedirs(output_dir, exist_ok\u001b[38;5;241m=\u001b[39m\u001b[38;5;28;01mTrue\u001b[39;00m)\n\u001b[1;32m     84\u001b[0m \u001b[38;5;28;01mwith\u001b[39;00m \u001b[38;5;28mopen\u001b[39m(\n\u001b[1;32m     85\u001b[0m     os\u001b[38;5;241m.\u001b[39mpath\u001b[38;5;241m.\u001b[39mjoin(output_dir, \u001b[38;5;124m\"\u001b[39m\u001b[38;5;124mparsed-processed-input.yaml\u001b[39m\u001b[38;5;124m\"\u001b[39m),\n\u001b[1;32m     86\u001b[0m     \u001b[38;5;124m\"\u001b[39m\u001b[38;5;124mw\u001b[39m\u001b[38;5;124m\"\u001b[39m,\n\u001b[1;32m     87\u001b[0m ) \u001b[38;5;28;01mas\u001b[39;00m f:\n",
      "File \u001b[0;32m/usr/local/lib/python3.10/dist-packages/pytimeloop/timeloopfe/common/backend_calls.py:56\u001b[0m, in \u001b[0;36m_specification_to_yaml_string\u001b[0;34m(specification, for_model)\u001b[0m\n\u001b[1;32m     54\u001b[0m     input_content \u001b[38;5;241m=\u001b[39m to_yaml_string(specification)\n\u001b[1;32m     55\u001b[0m \u001b[38;5;28;01melif\u001b[39;00m \u001b[38;5;28misinstance\u001b[39m(specification, v4spec\u001b[38;5;241m.\u001b[39mSpecification):\n\u001b[0;32m---> 56\u001b[0m     input_content \u001b[38;5;241m=\u001b[39m \u001b[43mv4_to_v3\u001b[49m\u001b[38;5;241;43m.\u001b[39;49m\u001b[43mtranspile\u001b[49m\u001b[43m(\u001b[49m\u001b[43mspecification\u001b[49m\u001b[43m,\u001b[49m\u001b[43m \u001b[49m\u001b[43mfor_model\u001b[49m\u001b[38;5;241;43m=\u001b[39;49m\u001b[43mfor_model\u001b[49m\u001b[43m)\u001b[49m\n\u001b[1;32m     57\u001b[0m     input_content \u001b[38;5;241m=\u001b[39m to_yaml_string(input_content)\n\u001b[1;32m     58\u001b[0m \u001b[38;5;28;01melif\u001b[39;00m \u001b[38;5;28misinstance\u001b[39m(specification, v4fusedspec\u001b[38;5;241m.\u001b[39mSpecification):\n",
      "File \u001b[0;32m/usr/local/lib/python3.10/dist-packages/pytimeloop/timeloopfe/common/version_transpilers/v4_to_v3.py:165\u001b[0m, in \u001b[0;36mtranspile\u001b[0;34m(spec, for_model, add_spatial_dummy)\u001b[0m\n\u001b[1;32m    162\u001b[0m         next_meshX, next_meshY \u001b[38;5;241m=\u001b[39m \u001b[38;5;241m1\u001b[39m, \u001b[38;5;241m1\u001b[39m\n\u001b[1;32m    164\u001b[0m \u001b[38;5;28;01massert\u001b[39;00m node \u001b[38;5;129;01mis\u001b[39;00m \u001b[38;5;129;01mnot\u001b[39;00m \u001b[38;5;28;01mNone\u001b[39;00m, \u001b[38;5;124m\"\u001b[39m\u001b[38;5;124mNo nodes to add to the architecture\u001b[39m\u001b[38;5;124m\"\u001b[39m\n\u001b[0;32m--> 165\u001b[0m \u001b[38;5;28;01massert\u001b[39;00m \u001b[38;5;28misinstance\u001b[39m(node, arch\u001b[38;5;241m.\u001b[39mCompute), (\n\u001b[1;32m    166\u001b[0m     \u001b[38;5;124m\"\u001b[39m\u001b[38;5;124mThe last node in the architecture tree must be a compute node. \u001b[39m\u001b[38;5;124m\"\u001b[39m\n\u001b[1;32m    167\u001b[0m     \u001b[38;5;124mf\u001b[39m\u001b[38;5;124m\"\u001b[39m\u001b[38;5;124mWith \u001b[39m\u001b[38;5;124m'\u001b[39m\u001b[38;5;124mclass: compute\u001b[39m\u001b[38;5;124m'\u001b[39m\u001b[38;5;124m. Got node \u001b[39m\u001b[38;5;132;01m{\u001b[39;00mnode\u001b[38;5;241m.\u001b[39mget_name()\u001b[38;5;132;01m}\u001b[39;00m\u001b[38;5;124m of type \u001b[39m\u001b[38;5;132;01m{\u001b[39;00m\u001b[38;5;28mtype\u001b[39m(node)\u001b[38;5;132;01m}\u001b[39;00m\u001b[38;5;124m\"\u001b[39m\n\u001b[1;32m    168\u001b[0m )\n\u001b[1;32m    170\u001b[0m \u001b[38;5;28;01mif\u001b[39;00m \u001b[38;5;129;01mnot\u001b[39;00m level[\u001b[38;5;124m\"\u001b[39m\u001b[38;5;124msubtree\u001b[39m\u001b[38;5;124m\"\u001b[39m]:\n\u001b[1;32m    171\u001b[0m     \u001b[38;5;28;01mdel\u001b[39;00m level[\u001b[38;5;124m\"\u001b[39m\u001b[38;5;124msubtree\u001b[39m\u001b[38;5;124m\"\u001b[39m]\n",
      "\u001b[0;31mAssertionError\u001b[0m: The last node in the architecture tree must be a compute node. With 'class: compute'. Got node Specification[architecture].Architecture[nodes].ArchNodes[1].Hierarchical[nodes].ArchNodes[10].Storage(vec_mac[1..256]) of type <class 'pytimeloop.timeloopfe.v4.arch.Storage'>"
     ]
    }
   ],
   "source": [
    "result = run_test(\"example_traditional\", \"test_area_energy_breakdown\")\n",
    "fig, axs = plt.subplots(1, 2, figsize=(20, 5))\n",
    "bar_stacked(\n",
    "    {f\"Speculation {r.variables['QUANTIZE']}\": r.per_compute('per_component_energy')*1e15 for r in result},\n",
    "    ylabel=\"Energy (fJ/MAC)\",\n",
    "    title=f\"Energy Breakdown\",\n",
    "    ax=axs[0]\n",
    ")\n",
    "bar_stacked(\n",
    "    {f\"Speculation {r.variables['QUANTIZE']}\": r.per_compute('per_component_area')*1e12 for r in result},\n",
    "    ylabel=\"Area (um^2)\",\n",
    "    title=f\"Area Breakdown\",\n",
    "    ax=axs[1]\n",
    ")"
   ]
  },
  {
   "cell_type": "code",
   "execution_count": null,
   "metadata": {},
   "outputs": [],
   "source": []
  },
  {
   "cell_type": "code",
   "execution_count": null,
   "metadata": {},
   "outputs": [],
   "source": []
  }
 ],
 "metadata": {
  "kernelspec": {
   "display_name": "Python 3 (ipykernel)",
   "language": "python",
   "name": "python3"
  },
  "language_info": {
   "codemirror_mode": {
    "name": "ipython",
    "version": 3
   },
   "file_extension": ".py",
   "mimetype": "text/x-python",
   "name": "python",
   "nbconvert_exporter": "python",
   "pygments_lexer": "ipython3",
   "version": "3.10.12"
  }
 },
 "nbformat": 4,
 "nbformat_minor": 4
}
